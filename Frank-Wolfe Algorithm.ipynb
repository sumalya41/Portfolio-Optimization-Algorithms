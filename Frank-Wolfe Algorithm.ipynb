{
  "nbformat": 4,
  "nbformat_minor": 0,
  "metadata": {
    "colab": {
      "name": "application_hw2 .ipynb",
      "provenance": [],
      "collapsed_sections": []
    },
    "kernelspec": {
      "display_name": "Python 3",
      "language": "python",
      "name": "python3"
    },
    "language_info": {
      "codemirror_mode": {
        "name": "ipython",
        "version": 3
      },
      "file_extension": ".py",
      "mimetype": "text/x-python",
      "name": "python",
      "nbconvert_exporter": "python",
      "pygments_lexer": "ipython3",
      "version": "3.7.3"
    }
  },
  "cells": [
    {
      "cell_type": "code",
      "metadata": {
        "colab_type": "code",
        "id": "pYoSB7FUCO4J",
        "colab": {}
      },
      "source": [
        "import os\n",
        "import pandas as pd\n",
        "import numpy as np\n",
        "import matplotlib.pyplot as plt\n",
        "from sympy.solvers import solve\n",
        "from sympy import Symbol\n",
        "\n",
        "filename = \"russell_prices.txt\"\n",
        "data = pd.read_csv(filename, sep=\" \", skiprows = [0,1], header=None)\n",
        "data = data.iloc[:,:-1]\n",
        "data_pct = data.T.pct_change().iloc[1:,:]"
      ],
      "execution_count": 0,
      "outputs": []
    },
    {
      "cell_type": "code",
      "metadata": {
        "colab_type": "code",
        "id": "Vq2sNO4ICXAw",
        "colab": {}
      },
      "source": [
        "#1\n",
        "mean_return = data_pct.mean()\n",
        "cov_matrix = data_pct.cov()"
      ],
      "execution_count": 0,
      "outputs": []
    },
    {
      "cell_type": "code",
      "metadata": {
        "colab_type": "code",
        "id": "5BWyNP-PCnJn",
        "colab": {}
      },
      "source": [
        "#2 Implement of algorithm\n",
        "\n",
        "def feasible_initial(l,u):    #Initialization of lower bounds and upper bounds of each asset in the portfolio and return a feasible portfolio vector\n",
        "\n",
        "    if l.sum()>1 or (~(l<=u)).sum()!=0:     \n",
        "        print(\"Infeasible!\")\n",
        "    elif (u.cumsum())[-1]<1:\n",
        "        print(\"infeasible!\")       \n",
        "    else:\n",
        "        w=l.copy()\n",
        "        count=0+l.sum()\n",
        "        for i in range(len(w)):\n",
        "            count+=u[i]-l[i] \n",
        "       \n",
        "            if count<1:\n",
        "              w[i]=u[i]\n",
        "            elif count==1:\n",
        "              w[i]=u[i]\n",
        "              break\n",
        "            else:\n",
        "              w[i]=u[i]-(count-1)\n",
        "              break\n",
        "        return w\n"
      ],
      "execution_count": 0,
      "outputs": []
    },
    {
      "cell_type": "code",
      "metadata": {
        "colab_type": "code",
        "id": "R2d25S2ICpGX",
        "colab": {}
      },
      "source": [
        "def Grad_Fx_wrt_x(lamda,w):\n",
        "    grad=2*lamda*np.dot(cov_matrix,w)-mean_return\n",
        "    return grad"
      ],
      "execution_count": 0,
      "outputs": []
    },
    {
      "cell_type": "code",
      "metadata": {
        "colab_type": "code",
        "id": "ezfAG1yTCpP7",
        "colab": {}
      },
      "source": [
        "def get_y(lamda,w, l, u):\n",
        "  # sort the asset indices so that the gradient is from large to small and get a sorted y vector\n",
        "  # loop m through 1 to 947\n",
        "  # get a list of feasible y and choose the y that gives the min grad*y\n",
        "  \n",
        "  feasible_y=[]\n",
        "  grad = Grad_Fx_wrt_x(lamda,w)\n",
        "  grad_sorted = grad.argsort()[::-1]\n",
        "  w_sorted = w[grad_sorted]\n",
        "  for m in range(947):\n",
        "    y=l-w_sorted\n",
        "    y[m]=0\n",
        "    y[m+1:]=(u-w_sorted)[m+1:]\n",
        "    y[m]=0-np.sum(y)\n",
        "    if y[m]>=(l-w_sorted)[m] and y[m]<=(u-w_sorted)[m]:    #use y[m] to check feasibility\n",
        "      feasible_y.append(list(y))\n",
        "  #print(\"len(feasible_y):\",len(feasible_y))               #there will only be 1 feasible candidates    \n",
        "\n",
        "  if len(feasible_y)==0:                    # when all candidate vectors are rejected, return an array of 0\n",
        "    return np.repeat(0,len(w))\n",
        "  \n",
        "  min_grad_y=0\n",
        "  y_opt=[]\n",
        "  for i in feasible_y:\n",
        "    if np.dot(grad[grad_sorted],i)<min_grad_y:           # if more than one candidate vector y give a same objective       \n",
        "        min_grad_y=np.dot(grad[grad_sorted],i)           # we choose the y that comes first\n",
        "        y_opt=i\n",
        "  if y_opt == []:\n",
        "    return np.repeat(0,len(w))\n",
        "  \n",
        "  # make the indices of the optimal y vector back to the original sequence\n",
        "  y_opto = list(np.repeat(0,947))\n",
        "  count = 0\n",
        "  for i in grad_sorted: \n",
        "    y_opto[i] = y_opt[count]\n",
        "    count = count+1\n",
        "    if count == len(grad_sorted-1):\n",
        "      break\n",
        "    \n",
        "  return np.array(y_opto)"
      ],
      "execution_count": 0,
      "outputs": []
    },
    {
      "cell_type": "code",
      "metadata": {
        "colab_type": "code",
        "id": "45iunUKMyqIg",
        "colab": {}
      },
      "source": [
        "def step_size(lamda,w,y):\n",
        "  # derivative of F(x+sy) wrt.s = y*F(x+sy)=0\n",
        "    s_up=np.dot(mean_return,y)/(2*lamda)-np.dot(np.dot(cov_matrix,w),y)\n",
        "    s_down=np.dot(np.dot(cov_matrix,y),y)\n",
        "    s=(s_up/s_down)\n",
        "    if s<0:\n",
        "        s=0\n",
        "    elif s>1:\n",
        "        s=1\n",
        "    return s"
      ],
      "execution_count": 0,
      "outputs": []
    },
    {
      "cell_type": "code",
      "metadata": {
        "id": "a1QoAgyJt-Op",
        "colab_type": "code",
        "colab": {}
      },
      "source": [
        "def improve_f(lamda):\n",
        "  # loop to get optimal F(x)\n",
        "\n",
        "    l=np.repeat(0.0,947)      #have to enter an array of float \n",
        "    u=np.repeat(1,947)\n",
        "    w = feasible_initial(l,u)\n",
        "    \n",
        "    #Get current portfolio F\n",
        "    var_port,ret_port = var_ret(w)\n",
        "    var_port = float(var_port.iloc[0][0])\n",
        "    ret_port = float(ret_port.iloc[0])\n",
        "\n",
        "    F_old = lamda * var_port - ret_port\n",
        "    \n",
        "    #Proceed to the next position w, and get new F value\n",
        "    y=get_y(lamda,w, l, u)\n",
        "    s=step_size(lamda, w,y)\n",
        "    w=w+s*y\n",
        "    \n",
        "    var_port,ret_port = var_ret(w)\n",
        "    var_port = float(var_port.iloc[0][0])\n",
        "    ret_port = float(ret_port.iloc[0])\n",
        "    F_new = lamda * var_port - ret_port\n",
        "    \n",
        "    #Calculate the improvement of the step\n",
        "    dif = F_old - F_new\n",
        "    \n",
        "    #Keep finding new step until improvement is less than certain number\n",
        "    while dif > 0.0000001:\n",
        "      F_old = F_new\n",
        "      y=get_y(lamda,w, l, u)\n",
        "      s=step_size(lamda, w,y)\n",
        "      w=w+s*y\n",
        "      \n",
        "      var_port,ret_port = var_ret(w)\n",
        "      var_port = float(var_port.iloc[0][0])\n",
        "      ret_port = float(ret_port.iloc[0])\n",
        "\n",
        "      F_new = lamda * var_port - ret_port\n",
        "      dif = F_old - F_new\n",
        "   \n",
        "    return w"
      ],
      "execution_count": 0,
      "outputs": []
    },
    {
      "cell_type": "code",
      "metadata": {
        "colab_type": "code",
        "id": "F8WbQkJ5njKw",
        "colab": {}
      },
      "source": [
        "def var_ret(w):                  #This function takes a portfolio as input and return the portfolio's return and variance\n",
        "    w_vector = pd.DataFrame(w)\n",
        "    var = w_vector.transpose().dot(cov_matrix).dot(w_vector)\n",
        "    ret = w_vector.transpose().dot(mean_return)\n",
        "    return var, ret"
      ],
      "execution_count": 0,
      "outputs": []
    },
    {
      "cell_type": "code",
      "metadata": {
        "colab_type": "code",
        "id": "X9Nhad2Keq2I",
        "outputId": "b0ca844c-890e-4afa-8f84-833a8275a9b9",
        "colab": {
          "base_uri": "https://localhost:8080/",
          "height": 105
        }
      },
      "source": [
        "#3 When lambda = 0\n",
        "lamda = 0\n",
        "l = np.repeat(0.0, 947)\n",
        "u = np.repeat(1, 947)\n",
        "w = feasible_initial(l,u)\n",
        "y = get_y(lamda, w, l, u)\n",
        "s = step_size(lamda, w, y)\n",
        "w = w + s*y\n",
        "var_0= var_ret(w)[0]\n",
        "\n",
        "print('Number of asset in the basket:',np.sum(w))\n",
        "print('When lambda is 0, we do not consider risk in the portfolio, thus the basket has 1 asset of the highest return.')\n",
        "print('variance of portfolio when lambda = 0 is:', var_0.iloc[0,0])"
      ],
      "execution_count": 31,
      "outputs": [
        {
          "output_type": "stream",
          "text": [
            "Number of asset in the basket: 1.0\n",
            "When lambda is 0, we do not consider risk in the portfolio, thus the basket has 1 asset of the highest return.\n",
            "variance of portfolio when lambda = 0 is: 0.018636783933845803\n"
          ],
          "name": "stdout"
        },
        {
          "output_type": "stream",
          "text": [
            "/usr/local/lib/python3.6/dist-packages/ipykernel_launcher.py:3: RuntimeWarning: divide by zero encountered in double_scalars\n",
            "  This is separate from the ipykernel package so we can avoid doing imports until\n"
          ],
          "name": "stderr"
        }
      ]
    },
    {
      "cell_type": "code",
      "metadata": {
        "colab_type": "code",
        "id": "XBXSxOtZmjTo",
        "outputId": "7a70d703-62fc-40b5-8f58-1b123a396714",
        "colab": {
          "base_uri": "https://localhost:8080/",
          "height": 300
        }
      },
      "source": [
        "#4 When lambda takes range from 1 to 5, step size 0.1\n",
        "\n",
        "var_array = np.array([])\n",
        "ret_array = np.array([])\n",
        "lamda_array = np.array([])\n",
        "\n",
        "for i in np.arange(1,5,0.1):\n",
        "  \n",
        "  w=improve_f(i)\n",
        "  var, ret = var_ret(w)\n",
        "  var_array = np.append(var_array,var)\n",
        "  ret_array = np.append(ret_array,ret)\n",
        "  lamda_array = np.append(lamda_array, i)\n",
        "  \n",
        "  \n",
        "plt.scatter(var_array, ret_array)\n",
        "plt.xlabel('variance')\n",
        "plt.ylabel('return')\n",
        "plt.xlim(0, 0.0008)\n",
        "plt.ylim(0, 0.005)\n",
        "plt.show\n",
        "print('The smallest variance on the graph is ', var_array.min(), ', it happens when lambda is ', lamda_array[var_array.argmin()])"
      ],
      "execution_count": 0,
      "outputs": [
        {
          "output_type": "stream",
          "text": [
            "The smallest variance on the graph is  0.00013378265231662605 , it happens when lambda is  4.900000000000004\n"
          ],
          "name": "stdout"
        },
        {
          "output_type": "display_data",
          "data": {
            "image/png": "[encoded data removed]",
            "text/plain": [
              "<Figure size 432x288 with 1 Axes>"
            ]
          },
          "metadata": {
            "tags": []
          }
        }
      ]
    },
    {
      "cell_type": "code",
      "metadata": {
        "colab_type": "code",
        "id": "E4261aIvs0yl",
        "outputId": "4af007e2-75cb-42ae-e392-2db8eb6329bd",
        "colab": {
          "base_uri": "https://localhost:8080/",
          "height": 52
        }
      },
      "source": [
        "#5\n",
        "S_0 = 0.018636783933845803\n",
        "S_min = var_array.min()\n",
        "S_mid = 0.5*(S_0+S_min)\n",
        "print('S_mid: ',S_mid)\n",
        "\n",
        "lamda = 0.0946                 #estimation of lambda to achieve this variance\n",
        "w=improve_f(lamda)\n",
        "\n",
        "var = var_ret(w)[0].iloc[0,0]\n",
        "print('At lambda = 0.0946, variance of the portfolio is: ', var)"
      ],
      "execution_count": 41,
      "outputs": [
        {
          "output_type": "stream",
          "text": [
            "S_mid:  0.009385283293081215\n",
            "At lambda = 0.0946, variance of the portfolio is:  0.00938488669375063\n"
          ],
          "name": "stdout"
        }
      ]
    },
    {
      "cell_type": "code",
      "metadata": {
        "id": "TScL0ZRl-zkf",
        "colab_type": "code",
        "colab": {}
      },
      "source": [
        ""
      ],
      "execution_count": 0,
      "outputs": []
    }
  ]
}