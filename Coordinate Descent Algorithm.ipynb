{
  "nbformat": 4,
  "nbformat_minor": 0,
  "metadata": {
    "colab": {
      "name": "Application programming hw1.ipynb",
      "provenance": [],
      "collapsed_sections": []
    },
    "kernelspec": {
      "name": "python3",
      "display_name": "Python 3"
    }
  },
  "cells": [
    {
      "cell_type": "code",
      "metadata": {
        "id": "wAG4RysBfRSA",
        "colab_type": "code",
        "colab": {}
      },
      "source": [
        "import os\n",
        "import pandas as pd\n",
        "import numpy as np\n",
        "import matplotlib.pyplot as plt\n",
        "from sympy.solvers import solve\n",
        "from sympy import Symbol\n",
        "import sympy\n",
        "\n",
        "filename = \"russell_prices.txt\"\n",
        "data = pd.read_csv(filename, sep=\" \", skiprows = [0,1], header=None)\n",
        "data = data.iloc[:,:-1]\n",
        "data_pct = data.T.pct_change().iloc[1:,:]"
      ],
      "execution_count": 0,
      "outputs": []
    },
    {
      "cell_type": "code",
      "metadata": {
        "id": "TNNY39LQXRtV",
        "colab_type": "code",
        "colab": {}
      },
      "source": [
        "#1\n",
        "mean_return = data_pct.mean() \n",
        "cov_matrix = data_pct.cov()"
      ],
      "execution_count": 0,
      "outputs": []
    },
    {
      "cell_type": "code",
      "metadata": {
        "id": "M0Bax2tcXZNX",
        "colab_type": "code",
        "colab": {}
      },
      "source": [
        "#2 Implement of algorithm\n",
        "\n",
        "def feasible_initial(l,u):                  #Initialization of lower bounds and upper bounds of each asset in the portfolio and return a feasible portfolio vector\n",
        "\n",
        "    if l.sum()>1 or (~(l<=u)).sum()!=0:     \n",
        "        print(\"Infeasible!\")\n",
        "    elif (u.cumsum())[-1]<1:\n",
        "        print(\"infeasible!\")       \n",
        "    else:\n",
        "        w=l.copy()\n",
        "        count=0+l.sum()\n",
        "        for i in range(len(w)):\n",
        "            count+=u[i]-l[i] \n",
        "       \n",
        "            if count<1:\n",
        "              w[i]=u[i]\n",
        "            elif count==1:\n",
        "              w[i]=u[i]\n",
        "              break\n",
        "            else:\n",
        "              w[i]=u[i]-(count-1)\n",
        "              break\n",
        "        return w\n"
      ],
      "execution_count": 0,
      "outputs": []
    },
    {
      "cell_type": "code",
      "metadata": {
        "id": "qs6j51SpXj2H",
        "colab_type": "code",
        "colab": {}
      },
      "source": [
        "def improve(lamda,xh,xk,w):\n",
        "      \n",
        "    if (w[xh] == 0 and w[xk] == 0):      #When both assets have zero weight, there isn't anything to move between them\n",
        "      return w\n",
        "    \n",
        "    else:\n",
        "      vh = cov_matrix.iloc[xh,xh]\n",
        "      vk = cov_matrix.iloc[xk,xk]\n",
        "      vhk = cov_matrix.iloc[xh,xk]\n",
        "\n",
        "      a=lamda*(vh+vk-2*vhk)              #calculation of a and b\n",
        "      if (a ==0):\n",
        "        print('exception')\n",
        "        \n",
        "      b_part1 = -w[xh]*vh + w[xk]*vk + (w[xh]-w[xk])*vhk\n",
        "      b_part2 = np.sum( (cov_matrix.iloc[:,xk] - cov_matrix.iloc[:,xh]) *w ) - ( (vhk - vh) * w[xh] + (vk - vhk) * w[xk])\n",
        "      b_part3 = (mean_return[xh] - mean_return[xk])\n",
        "      b=2*lamda*( b_part1 + b_part2) + b_part3\n",
        "      eps = -b/2/a\n",
        "      \n",
        "      e_pos = min(w[xh]-l[xh], u[xk]-w[xk])        #check if the epsilon calculated falls between bounds\n",
        "      e_neg = min(u[xh]-w[xh], w[xk]-l[xk])\n",
        "\n",
        "      if eps < (-1)*e_neg:                         #if not, adjust epsilon\n",
        "        eps = (-1)*e_neg\n",
        "      elif eps > e_pos:\n",
        "        eps = e_pos     \n",
        "        \n",
        "      w[xh] = w[xh]-eps                   #shift the weight by to epsilon\n",
        "      w[xk] = w[xk]+eps\n",
        "      return w\n"
      ],
      "execution_count": 0,
      "outputs": []
    },
    {
      "cell_type": "code",
      "metadata": {
        "id": "HPyGcEluXoGm",
        "colab_type": "code",
        "colab": {}
      },
      "source": [
        "def optimizer(lamda,w):                  #This function assumes lambda input is positive\n",
        "    if lamda <= 0:\n",
        "      print ('input error')\n",
        "      return\n",
        "    \n",
        "    for i in range(947):                 #Implement the algorithm round-robin style\n",
        "      for j in range(i+1,947):\n",
        "        if i != j :\n",
        "          w = improve(lamda, i, j, w)\n",
        "    return w"
      ],
      "execution_count": 0,
      "outputs": []
    },
    {
      "cell_type": "code",
      "metadata": {
        "id": "NnuizCNZXsDm",
        "colab_type": "code",
        "colab": {}
      },
      "source": [
        "def var_ret(w):                  #This function takes a portfolio as input and return the portfolio's return and variance\n",
        "    w_vector = pd.DataFrame(w)\n",
        "    var = w_vector.transpose().dot(cov_matrix).dot(w_vector)\n",
        "    ret = w_vector.transpose().dot(mean_return)\n",
        "    return var, ret"
      ],
      "execution_count": 0,
      "outputs": []
    },
    {
      "cell_type": "code",
      "metadata": {
        "id": "b2qifS0zQXR9",
        "colab_type": "code",
        "outputId": "3ef70ce1-09de-4436-bcd9-7e329af40946",
        "colab": {
          "base_uri": "https://localhost:8080/",
          "height": 51
        }
      },
      "source": [
        "#3 When lambda = 0\n",
        "w = np.repeat(0,947)\n",
        "w[mean_return.values.argmax()] = 1\n",
        "var_0= var_ret(w)[0]\n",
        "\n",
        "print('When lambda is 0, we do not consider risk in the portfolio, thus the basket has 1 asset of the highest return.')\n",
        "print('variance of portfolio when lambda = 0 is:', var_0.iloc[0,0])"
      ],
      "execution_count": 0,
      "outputs": [
        {
          "output_type": "stream",
          "text": [
            "When lambda is 0, we do not consider risk in the portfolio, thus the basket has 1 asset of the highest return.\n",
            "variance of portfolio when lambda = 0 is: 0.018636783933845803\n"
          ],
          "name": "stdout"
        }
      ]
    },
    {
      "cell_type": "code",
      "metadata": {
        "id": "d8Yuz5gRQx-4",
        "colab_type": "code",
        "outputId": "9d26886d-d42e-4039-9e79-cbaac817f253",
        "colab": {
          "base_uri": "https://localhost:8080/",
          "height": 300
        }
      },
      "source": [
        "#4 When lambda takes range from 1 to 5\n",
        "\n",
        "var_array = np.array([])\n",
        "ret_array = np.array([])\n",
        "lamda_array = np.array([])\n",
        "l=np.repeat(0.0,947)      #have to enter an array of float \n",
        "u=np.repeat(1,947)\n",
        "\n",
        "for i in np.arange(0.1,2,0.1):\n",
        "  w = feasible_initial(l,u)\n",
        "  w = optimizer(i, w)\n",
        "  var, ret = var_ret(w)\n",
        "  var_array = np.append(var_array,var)\n",
        "  ret_array = np.append(ret_array,ret)\n",
        "  lamda_array = np.append(lamda_array, i)\n",
        "  \n",
        "plt.scatter(var_array, ret_array)\n",
        "plt.xlabel('variance')\n",
        "plt.ylabel('return')\n",
        "plt.xlim(0, 0.0008)\n",
        "plt.ylim(0, 0.005)\n",
        "plt.show\n",
        "print('The smallest variance on the graph is ', var_array.min(), ', it happens when lambda is ', lamda_array[var_array.argmin()])"
      ],
      "execution_count": 0,
      "outputs": [
        {
          "output_type": "stream",
          "text": [
            "The smallest variance on the graph is  0.0003124229682902893 , it happens when lambda is  1.9000000000000001\n"
          ],
          "name": "stdout"
        },
        {
          "output_type": "display_data",
          "data": {
            "image/png": "[encoded data removed]",
            "text/plain": [
              "<Figure size 432x288 with 1 Axes>"
            ]
          },
          "metadata": {
            "tags": []
          }
        }
      ]
    },
    {
      "cell_type": "code",
      "metadata": {
        "id": "YIRu_khmX0Za",
        "colab_type": "code",
        "outputId": "287b7bcc-d672-496f-ffa4-5096a1244498",
        "colab": {
          "base_uri": "https://localhost:8080/",
          "height": 51
        }
      },
      "source": [
        "#5\n",
        "S_0 = 0.018636783933845803\n",
        "S_min = var_array.min()\n",
        "S_mid = 0.5*(S_0+S_min)\n",
        "print('S_mid: ',S_mid)\n",
        "\n",
        "lamda = 0.09                 #estimation of lambda to achieve this variance\n",
        "l=np.repeat(0.0,947)      \n",
        "u=np.repeat(1,947)\n",
        "w = feasible_initial(l,u)\n",
        "w = optimizer(lamda, w)\n",
        "var = var_ret(w)[0].iloc[0,0]\n",
        "print('At lambda = 0.09, variance of the portfolio is: ', var)"
      ],
      "execution_count": 0,
      "outputs": [
        {
          "output_type": "stream",
          "text": [
            "S_mid:  0.009474603451068046\n",
            "At lambda = 0.09, variance of the portfolio is:  0.010176079443031297\n"
          ],
          "name": "stdout"
        }
      ]
    },
    {
      "cell_type": "code",
      "metadata": {
        "id": "-_Owrupif9jv",
        "colab_type": "code",
        "colab": {}
      },
      "source": [
        ""
      ],
      "execution_count": 0,
      "outputs": []
    }
  ]
}